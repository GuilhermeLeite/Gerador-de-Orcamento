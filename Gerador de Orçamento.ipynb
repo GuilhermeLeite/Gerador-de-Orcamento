{
 "cells": [
  {
   "cell_type": "markdown",
   "id": "66f61fea",
   "metadata": {},
   "source": [
    "# Gerado de Orçamento"
   ]
  },
  {
   "cell_type": "markdown",
   "id": "56bbd1e4",
   "metadata": {},
   "source": [
    "# Mostrando dados para o usário"
   ]
  },
  {
   "cell_type": "code",
   "execution_count": 2,
   "id": "717cfd50",
   "metadata": {},
   "outputs": [
    {
     "name": "stdout",
     "output_type": "stream",
     "text": [
      "Orçamento gerado com sucesso!\n",
      "Semana do Python na Prática!\n",
      "Eu vou ser Expert na linguagem Python!\n"
     ]
    }
   ],
   "source": [
    "print (\"Orçamento gerado com sucesso!\")\n",
    "print (\"Semana do Python na Prática!\")\n",
    "print (\"Eu vou ser Expert na linguagem Python!\")"
   ]
  },
  {
   "cell_type": "markdown",
   "id": "0577869e",
   "metadata": {},
   "source": [
    "Entrada de dados do usuário"
   ]
  },
  {
   "cell_type": "code",
   "execution_count": 5,
   "id": "befb9d7e",
   "metadata": {},
   "outputs": [
    {
     "name": "stdout",
     "output_type": "stream",
     "text": [
      "Digite a descrição do projeto: Desenvolvimento Python\n",
      "Digite a quantidade de horas previstas: 200\n",
      "Digite o valor da hora trabalhada: 100\n",
      "Digite o prazo estimado: 3 meses\n"
     ]
    },
    {
     "data": {
      "text/plain": [
       "'3 meses'"
      ]
     },
     "execution_count": 5,
     "metadata": {},
     "output_type": "execute_result"
    }
   ],
   "source": [
    "input (\"Digite a descrição do projeto: \")\n",
    "input (\"Digite a quantidade de horas previstas: \")\n",
    "input (\"Digite o valor da hora trabalhada: \")\n",
    "input (\"Digite o prazo estimado: \")"
   ]
  },
  {
   "cell_type": "markdown",
   "id": "91894ec8",
   "metadata": {},
   "source": [
    "# Armazenando dados em variáveis\n",
    "\n",
    "- Nomes significativos (dica)\n",
    "- Não pode começar com números\n",
    "- Não pode conter espaços\n",
    "- Não pode ser uma palavra reservada do Python"
   ]
  },
  {
   "cell_type": "code",
   "execution_count": 17,
   "id": "ddbec378",
   "metadata": {},
   "outputs": [
    {
     "name": "stdout",
     "output_type": "stream",
     "text": [
      "Digite a descrição do projeto: Desenvolvimento Python\n",
      "Digite a quantidade de horas previstas: 200\n",
      "Digite o valor da hora trabalhada: 150\n",
      "Digite o prazo estimado: 3 meses\n"
     ]
    }
   ],
   "source": [
    "projeto = input (\"Digite a descrição do projeto: \")\n",
    "horas_previstas = input (\"Digite a quantidade de horas previstas: \")\n",
    "valor_hora= input (\"Digite o valor da hora trabalhada: \")\n",
    "prazo = input (\"Digite o prazo estimado: \")"
   ]
  },
  {
   "cell_type": "code",
   "execution_count": 14,
   "id": "6ae2a34a",
   "metadata": {},
   "outputs": [
    {
     "name": "stdout",
     "output_type": "stream",
     "text": [
      "6 meses\n"
     ]
    }
   ],
   "source": [
    "print (prazo) "
   ]
  },
  {
   "cell_type": "markdown",
   "id": "260d3118",
   "metadata": {},
   "source": [
    "# Realizando cálculos com o Python\n",
    "\n",
    "- Quantidade de horas previstas * valor hora trabalhada"
   ]
  },
  {
   "cell_type": "code",
   "execution_count": 23,
   "id": "ada82e3e",
   "metadata": {},
   "outputs": [],
   "source": [
    "valor_total = int (horas_previstas) * int(valor_hora)"
   ]
  },
  {
   "cell_type": "code",
   "execution_count": 24,
   "id": "9e8ba933",
   "metadata": {},
   "outputs": [
    {
     "data": {
      "text/plain": [
       "30000"
      ]
     },
     "execution_count": 24,
     "metadata": {},
     "output_type": "execute_result"
    }
   ],
   "source": [
    "valor_total"
   ]
  },
  {
   "cell_type": "markdown",
   "id": "924ce0b9",
   "metadata": {},
   "source": [
    "# Tipo de Dado\n",
    "\n",
    "- texto (str)\n",
    "- número (int)"
   ]
  },
  {
   "cell_type": "code",
   "execution_count": 25,
   "id": "deb44ad2",
   "metadata": {},
   "outputs": [
    {
     "data": {
      "text/plain": [
       "10"
      ]
     },
     "execution_count": 25,
     "metadata": {},
     "output_type": "execute_result"
    }
   ],
   "source": [
    "int (\"10\")"
   ]
  },
  {
   "cell_type": "markdown",
   "id": "4f73d3c8",
   "metadata": {},
   "source": [
    "# Gerando o PDF"
   ]
  },
  {
   "cell_type": "code",
   "execution_count": 27,
   "id": "13cddd2a",
   "metadata": {},
   "outputs": [
    {
     "name": "stdout",
     "output_type": "stream",
     "text": [
      "Requirement already satisfied: fpdf in c:\\users\\inspiron\\anaconda3\\lib\\site-packages (1.7.2)\n"
     ]
    }
   ],
   "source": [
    "!pip install fpdf"
   ]
  },
  {
   "cell_type": "code",
   "execution_count": 28,
   "id": "1591d095",
   "metadata": {},
   "outputs": [],
   "source": [
    "from fpdf import FPDF"
   ]
  },
  {
   "cell_type": "code",
   "execution_count": 35,
   "id": "b47b7a5d",
   "metadata": {},
   "outputs": [
    {
     "name": "stdout",
     "output_type": "stream",
     "text": [
      "Orçamento gerado com sucesso!\n"
     ]
    }
   ],
   "source": [
    "pdf = FPDF()\n",
    "\n",
    "pdf.add_page()\n",
    "pdf.set_font(\"Arial\")\n",
    "\n",
    "pdf.image (\"template.png\", x=0, y=0)\n",
    "\n",
    "pdf.text (115, 145, projeto)\n",
    "pdf.text (115,160, horas_previstas)\n",
    "pdf.text (115,175, valor_hora)\n",
    "pdf.text (115,190, prazo)\n",
    "pdf.text (115, 205, str (valor_total))\n",
    "\n",
    "pdf.output(\"Orçamento.pdf\")\n",
    "print (\"Orçamento gerado com sucesso!\")"
   ]
  },
  {
   "cell_type": "code",
   "execution_count": null,
   "id": "873d58bb",
   "metadata": {},
   "outputs": [],
   "source": []
  },
  {
   "cell_type": "code",
   "execution_count": null,
   "id": "cd1111fb",
   "metadata": {},
   "outputs": [],
   "source": []
  },
  {
   "cell_type": "code",
   "execution_count": null,
   "id": "f140e9b1",
   "metadata": {},
   "outputs": [],
   "source": []
  },
  {
   "cell_type": "code",
   "execution_count": null,
   "id": "b4a409ef",
   "metadata": {},
   "outputs": [],
   "source": []
  },
  {
   "cell_type": "code",
   "execution_count": null,
   "id": "3d3c5275",
   "metadata": {},
   "outputs": [],
   "source": []
  },
  {
   "cell_type": "code",
   "execution_count": null,
   "id": "c7486c9e",
   "metadata": {},
   "outputs": [],
   "source": []
  },
  {
   "cell_type": "code",
   "execution_count": null,
   "id": "3861e505",
   "metadata": {},
   "outputs": [],
   "source": []
  }
 ],
 "metadata": {
  "kernelspec": {
   "display_name": "Python 3 (ipykernel)",
   "language": "python",
   "name": "python3"
  },
  "language_info": {
   "codemirror_mode": {
    "name": "ipython",
    "version": 3
   },
   "file_extension": ".py",
   "mimetype": "text/x-python",
   "name": "python",
   "nbconvert_exporter": "python",
   "pygments_lexer": "ipython3",
   "version": "3.11.5"
  }
 },
 "nbformat": 4,
 "nbformat_minor": 5
}
